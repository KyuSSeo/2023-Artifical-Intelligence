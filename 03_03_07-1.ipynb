{
  "nbformat": 4,
  "nbformat_minor": 0,
  "metadata": {
    "colab": {
      "provenance": [],
      "authorship_tag": "ABX9TyNSypPeM5x6xNSCU0Qgo1sz",
      "include_colab_link": true
    },
    "kernelspec": {
      "name": "python3",
      "display_name": "Python 3"
    },
    "language_info": {
      "name": "python"
    }
  },
  "cells": [
    {
      "cell_type": "markdown",
      "metadata": {
        "id": "view-in-github",
        "colab_type": "text"
      },
      "source": [
        "<a href=\"https://colab.research.google.com/github/KyuSSeo/2023-Artifical-Intelligence/blob/main/03_03_07-1.ipynb\" target=\"_parent\"><img src=\"https://colab.research.google.com/assets/colab-badge.svg\" alt=\"Open In Colab\"/></a>"
      ]
    },
    {
      "cell_type": "code",
      "source": [
        "name = 'kim'\n",
        "age =22"
      ],
      "metadata": {
        "id": "P8vWQYwgkU_4"
      },
      "execution_count": 6,
      "outputs": []
    },
    {
      "cell_type": "code",
      "source": [
        "name\n",
        "age"
      ],
      "metadata": {
        "id": "-KXshYWTihep",
        "colab": {
          "base_uri": "https://localhost:8080/"
        },
        "outputId": "638be8e0-66ac-493e-a3e3-5efdbeed99ff"
      },
      "execution_count": 7,
      "outputs": [
        {
          "output_type": "execute_result",
          "data": {
            "text/plain": [
              "22"
            ]
          },
          "metadata": {},
          "execution_count": 7
        }
      ]
    },
    {
      "cell_type": "code",
      "source": [
        "a = '{}{}'.format(name,age)\n",
        "a"
      ],
      "metadata": {
        "id": "Vec8-wsCg8y5",
        "colab": {
          "base_uri": "https://localhost:8080/",
          "height": 35
        },
        "outputId": "b767b926-36e8-4bad-894e-3887da6ac68b"
      },
      "execution_count": 17,
      "outputs": [
        {
          "output_type": "execute_result",
          "data": {
            "text/plain": [
              "'kim22'"
            ],
            "application/vnd.google.colaboratory.intrinsic+json": {
              "type": "string"
            }
          },
          "metadata": {},
          "execution_count": 17
        }
      ]
    },
    {
      "cell_type": "code",
      "source": [
        "for i in range(9):\n",
        " p = '={}단=='.format(i)\n",
        " p\n",
        "  for j in range(9):\n",
        "  r = '{} * {} = {}'.format(i,j,i*j)\n",
        "  r"
      ],
      "metadata": {
        "id": "swI8HgBTnFiY"
      },
      "execution_count": null,
      "outputs": []
    },
    {
      "cell_type": "code",
      "source": [
        "exam = [60,80,95,69,90,81,80,69,79,66,70,90,96]\n",
        "alp = ['A','B','C','D','E','F']\n"
      ],
      "metadata": {
        "id": "dyrjNxiOoDme"
      },
      "execution_count": 18,
      "outputs": []
    },
    {
      "cell_type": "code",
      "source": [
        "b = '당신의 성적은 {}이므로 점수는 {}입니다.'.format(exam,alp)"
      ],
      "metadata": {
        "id": "rLLoQASmo9VF"
      },
      "execution_count": 15,
      "outputs": []
    },
    {
      "cell_type": "code",
      "source": [
        "w = 0\n",
        "c = 1\n",
        "for c in range(11):\n",
        "  f = 'i의 값 : {} 합계 : {}'.format(c,c++w)\n",
        "  f\n",
        "  w+c\n",
        "  c+1\n",
        "c\n",
        "f"
      ],
      "metadata": {
        "colab": {
          "base_uri": "https://localhost:8080/",
          "height": 35
        },
        "id": "qj6qI0tko9c-",
        "outputId": "e507d5e4-7f45-410b-cf1a-f67e833f6dcc"
      },
      "execution_count": 34,
      "outputs": [
        {
          "output_type": "execute_result",
          "data": {
            "text/plain": [
              "'i의 값 : 10 합계 : 10'"
            ],
            "application/vnd.google.colaboratory.intrinsic+json": {
              "type": "string"
            }
          },
          "metadata": {},
          "execution_count": 34
        }
      ]
    },
    {
      "cell_type": "code",
      "source": [
        "zazang = 10000\n",
        "#입력값 받아서 비교\n",
        "n = 0\n",
        "if n > zazang :\n",
        "  '구매가능'\n",
        "  else\n",
        "  '구매불가능'"
      ],
      "metadata": {
        "colab": {
          "base_uri": "https://localhost:8080/"
        },
        "id": "ili8nwLLtcLh",
        "outputId": "5558f621-8ad7-40de-cd6d-3a290ded2272"
      },
      "execution_count": 37,
      "outputs": [
        {
          "output_type": "execute_result",
          "data": {
            "text/plain": [
              "0"
            ]
          },
          "metadata": {},
          "execution_count": 37
        }
      ]
    }
  ]
}