{
 "cells": [
  {
   "cell_type": "code",
   "execution_count": 1,
   "id": "994e1236",
   "metadata": {},
   "outputs": [],
   "source": [
    "a = 1\n",
    "b = 2\n",
    "c = a+b\n",
    "d = b*2"
   ]
  },
  {
   "cell_type": "code",
   "execution_count": 3,
   "id": "6598c301",
   "metadata": {},
   "outputs": [
    {
     "data": {
      "text/plain": [
       "(3, -1, 4)"
      ]
     },
     "execution_count": 3,
     "metadata": {},
     "output_type": "execute_result"
    }
   ],
   "source": [
    "a+b, a-b,a+c"
   ]
  },
  {
   "cell_type": "code",
   "execution_count": 4,
   "id": "a3d3de46",
   "metadata": {},
   "outputs": [
    {
     "name": "stdout",
     "output_type": "stream",
     "text": [
      "3\n",
      "3 -1 4\n"
     ]
    }
   ],
   "source": [
    "print(a+b)\n",
    "print(a+b, a-b,a+c)"
   ]
  },
  {
   "cell_type": "code",
   "execution_count": 5,
   "id": "581ce0c9",
   "metadata": {
    "scrolled": true
   },
   "outputs": [
    {
     "name": "stdout",
     "output_type": "stream",
     "text": [
      "3\n",
      "2.0\n",
      "1\n"
     ]
    }
   ],
   "source": [
    "print(a+b)\n",
    "print(d/b)\n",
    "print(d%c)"
   ]
  },
  {
   "cell_type": "code",
   "execution_count": 6,
   "id": "64a601a8",
   "metadata": {},
   "outputs": [
    {
     "name": "stdout",
     "output_type": "stream",
     "text": [
      "7\n"
     ]
    }
   ],
   "source": [
    "a = input ()"
   ]
  },
  {
   "cell_type": "code",
   "execution_count": 7,
   "id": "7028487b",
   "metadata": {},
   "outputs": [
    {
     "data": {
      "text/plain": [
       "str"
      ]
     },
     "execution_count": 7,
     "metadata": {},
     "output_type": "execute_result"
    }
   ],
   "source": [
    "type(a)"
   ]
  },
  {
   "cell_type": "code",
   "execution_count": 8,
   "id": "83edee3c",
   "metadata": {},
   "outputs": [
    {
     "name": "stdout",
     "output_type": "stream",
     "text": [
      "725\n"
     ]
    }
   ],
   "source": [
    "i = float(input())"
   ]
  },
  {
   "cell_type": "code",
   "execution_count": 9,
   "id": "c0cfc63e",
   "metadata": {},
   "outputs": [
    {
     "data": {
      "text/plain": [
       "float"
      ]
     },
     "execution_count": 9,
     "metadata": {},
     "output_type": "execute_result"
    }
   ],
   "source": [
    "type(i)"
   ]
  },
  {
   "cell_type": "code",
   "execution_count": 10,
   "id": "1bec1301",
   "metadata": {},
   "outputs": [
    {
     "name": "stdout",
     "output_type": "stream",
     "text": [
      "75\n"
     ]
    }
   ],
   "source": [
    "i = int(input())"
   ]
  },
  {
   "cell_type": "code",
   "execution_count": 11,
   "id": "7edb8fad",
   "metadata": {},
   "outputs": [
    {
     "data": {
      "text/plain": [
       "int"
      ]
     },
     "execution_count": 11,
     "metadata": {},
     "output_type": "execute_result"
    }
   ],
   "source": [
    "type(i)"
   ]
  },
  {
   "cell_type": "code",
   "execution_count": 13,
   "id": "3c9f2416",
   "metadata": {},
   "outputs": [],
   "source": [
    "a = 123\n",
    "b = -12\n",
    "c = 3.14\n",
    "d = 0"
   ]
  },
  {
   "cell_type": "code",
   "execution_count": 14,
   "id": "79995bcd",
   "metadata": {},
   "outputs": [
    {
     "data": {
      "text/plain": [
       "int"
      ]
     },
     "execution_count": 14,
     "metadata": {},
     "output_type": "execute_result"
    }
   ],
   "source": [
    "type(a)"
   ]
  },
  {
   "cell_type": "code",
   "execution_count": 15,
   "id": "c19b6812",
   "metadata": {},
   "outputs": [
    {
     "data": {
      "text/plain": [
       "int"
      ]
     },
     "execution_count": 15,
     "metadata": {},
     "output_type": "execute_result"
    }
   ],
   "source": [
    "type(b)\n"
   ]
  },
  {
   "cell_type": "code",
   "execution_count": 16,
   "id": "efab358f",
   "metadata": {},
   "outputs": [
    {
     "data": {
      "text/plain": [
       "float"
      ]
     },
     "execution_count": 16,
     "metadata": {},
     "output_type": "execute_result"
    }
   ],
   "source": [
    "type(c)"
   ]
  },
  {
   "cell_type": "code",
   "execution_count": 17,
   "id": "3d967f48",
   "metadata": {},
   "outputs": [
    {
     "data": {
      "text/plain": [
       "int"
      ]
     },
     "execution_count": 17,
     "metadata": {},
     "output_type": "execute_result"
    }
   ],
   "source": [
    "type(d)"
   ]
  },
  {
   "cell_type": "code",
   "execution_count": 18,
   "id": "7af363be",
   "metadata": {},
   "outputs": [
    {
     "data": {
      "text/plain": [
       "True"
      ]
     },
     "execution_count": 18,
     "metadata": {},
     "output_type": "execute_result"
    }
   ],
   "source": [
    "10<15"
   ]
  },
  {
   "cell_type": "code",
   "execution_count": 21,
   "id": "944fbe8f",
   "metadata": {},
   "outputs": [],
   "source": [
    "H = \"Hello World\""
   ]
  },
  {
   "cell_type": "code",
   "execution_count": 20,
   "id": "58bff2dc",
   "metadata": {},
   "outputs": [
    {
     "name": "stdout",
     "output_type": "stream",
     "text": [
      "True\n"
     ]
    }
   ],
   "source": [
    "print(bool(1))"
   ]
  },
  {
   "cell_type": "code",
   "execution_count": 23,
   "id": "15e67487",
   "metadata": {},
   "outputs": [
    {
     "data": {
      "text/plain": [
       "'Hello W'"
      ]
     },
     "execution_count": 23,
     "metadata": {},
     "output_type": "execute_result"
    }
   ],
   "source": [
    "H[0:7]"
   ]
  },
  {
   "cell_type": "code",
   "execution_count": 24,
   "id": "4e493e65",
   "metadata": {},
   "outputs": [
    {
     "data": {
      "text/plain": [
       "'o World'"
      ]
     },
     "execution_count": 24,
     "metadata": {},
     "output_type": "execute_result"
    }
   ],
   "source": [
    "H[-7:]"
   ]
  },
  {
   "cell_type": "code",
   "execution_count": 29,
   "id": "b8b91ec7",
   "metadata": {},
   "outputs": [],
   "source": [
    "S = \"Annyung Haseyo\""
   ]
  },
  {
   "cell_type": "code",
   "execution_count": 30,
   "id": "9b0fd0a0",
   "metadata": {},
   "outputs": [
    {
     "data": {
      "text/plain": [
       "str"
      ]
     },
     "execution_count": 30,
     "metadata": {},
     "output_type": "execute_result"
    }
   ],
   "source": [
    "type(S)"
   ]
  },
  {
   "cell_type": "code",
   "execution_count": 31,
   "id": "f19ad17d",
   "metadata": {},
   "outputs": [
    {
     "data": {
      "text/plain": [
       "False"
      ]
     },
     "execution_count": 31,
     "metadata": {},
     "output_type": "execute_result"
    }
   ],
   "source": [
    "not 1 == 1"
   ]
  },
  {
   "cell_type": "code",
   "execution_count": 34,
   "id": "9d4f68d8",
   "metadata": {},
   "outputs": [
    {
     "data": {
      "text/plain": [
       "False"
      ]
     },
     "execution_count": 34,
     "metadata": {},
     "output_type": "execute_result"
    }
   ],
   "source": [
    "1 == 1 and 1 == 2"
   ]
  },
  {
   "cell_type": "code",
   "execution_count": 39,
   "id": "e0d0d965",
   "metadata": {},
   "outputs": [
    {
     "name": "stdout",
     "output_type": "stream",
     "text": [
      "안녕하세요<\n"
     ]
    }
   ],
   "source": [
    "print(\"안녕하세요\")"
   ]
  },
  {
   "cell_type": "code",
   "execution_count": 40,
   "id": "6fcaadb5",
   "metadata": {},
   "outputs": [
    {
     "name": "stdout",
     "output_type": "stream",
     "text": [
      "안녕하세요 <3\n"
     ]
    }
   ],
   "source": [
    "print(\"안녕하세요 <%d\" %3)"
   ]
  },
  {
   "cell_type": "code",
   "execution_count": 35,
   "id": "0164d8f7",
   "metadata": {},
   "outputs": [
    {
     "data": {
      "text/plain": [
       "True"
      ]
     },
     "execution_count": 35,
     "metadata": {},
     "output_type": "execute_result"
    }
   ],
   "source": [
    "1 == 1 or 1 == 2"
   ]
  },
  {
   "cell_type": "code",
   "execution_count": 41,
   "id": "2a1b3f37",
   "metadata": {},
   "outputs": [],
   "source": [
    "J=\"동해물과 백두산이 마르고 닳도록 하느님이 보우하사 우리나라 만세 무궁화 삼천리 화려강산 대한사람 대한으로 길이 보전하세 남산 위의 저 소나무 철갑을 두른 듯 바람서리 불변함은 우리 기상일세 가을하늘 공활한데 높고 구름 없이 밝은 달은 우리가슴 우리 기상일세 이 기상과 이 맘으로 충성을 다하여 괴로우나 즐거우나 나라 사랑하세\""
   ]
  },
  {
   "cell_type": "code",
   "execution_count": 46,
   "id": "d6e0a43b",
   "metadata": {},
   "outputs": [
    {
     "data": {
      "text/plain": [
       "'만세'"
      ]
     },
     "execution_count": 46,
     "metadata": {},
     "output_type": "execute_result"
    }
   ],
   "source": [
    "J[33:35]"
   ]
  },
  {
   "cell_type": "code",
   "execution_count": 47,
   "id": "2016ec12",
   "metadata": {},
   "outputs": [
    {
     "name": "stdout",
     "output_type": "stream",
     "text": [
      "4시에 수업이 끝난다\n"
     ]
    }
   ],
   "source": [
    "print(\"{}시에 수업이 끝난다\".format(4))"
   ]
  },
  {
   "cell_type": "code",
   "execution_count": 48,
   "id": "01d3014a",
   "metadata": {},
   "outputs": [
    {
     "name": "stdout",
     "output_type": "stream",
     "text": [
      "Hello World\n"
     ]
    }
   ],
   "source": [
    "print (\"Hello World\")"
   ]
  },
  {
   "cell_type": "code",
   "execution_count": 49,
   "id": "d65b1111",
   "metadata": {},
   "outputs": [
    {
     "data": {
      "text/plain": [
       "'기상'"
      ]
     },
     "execution_count": 49,
     "metadata": {},
     "output_type": "execute_result"
    }
   ],
   "source": [
    "J[-35:-33]"
   ]
  },
  {
   "cell_type": "code",
   "execution_count": 52,
   "id": "76b03fd1",
   "metadata": {},
   "outputs": [
    {
     "name": "stdout",
     "output_type": "stream",
     "text": [
      "123,456\n"
     ]
    }
   ],
   "source": [
    "print(\"{},{}\".format(123,456))"
   ]
  },
  {
   "cell_type": "code",
   "execution_count": 67,
   "id": "898142fa",
   "metadata": {},
   "outputs": [],
   "source": [
    "URL =\"https://www.youtube.com/\"\n",
    "str =URL.replace(\"https://\", \"\")\n"
   ]
  },
  {
   "cell_type": "code",
   "execution_count": 68,
   "id": "12d59e08",
   "metadata": {},
   "outputs": [
    {
     "name": "stdout",
     "output_type": "stream",
     "text": [
      "https://www.youtube.com/\n"
     ]
    }
   ],
   "source": [
    "print(URL)"
   ]
  },
  {
   "cell_type": "code",
   "execution_count": 69,
   "id": "af433fbc",
   "metadata": {},
   "outputs": [
    {
     "name": "stdout",
     "output_type": "stream",
     "text": [
      "www.youtube.com/\n"
     ]
    }
   ],
   "source": [
    "print(str)"
   ]
  },
  {
   "cell_type": "code",
   "execution_count": 77,
   "id": "5f553fa5",
   "metadata": {},
   "outputs": [
    {
     "name": "stdout",
     "output_type": "stream",
     "text": [
      "3.14, 3.142\n"
     ]
    }
   ],
   "source": [
    "print(\"{:.2f}, {:.3f}\".format(3.141592, 3.141592))"
   ]
  },
  {
   "cell_type": "code",
   "execution_count": 88,
   "id": "41036c51",
   "metadata": {},
   "outputs": [
    {
     "data": {
      "text/plain": [
       "'독고다이'"
      ]
     },
     "execution_count": 88,
     "metadata": {},
     "output_type": "execute_result"
    }
   ],
   "source": [
    "a = \"독고다이, 12\" \n",
    "index_a = a[:a.index(\",\")]\n",
    "index_a"
   ]
  },
  {
   "cell_type": "code",
   "execution_count": 89,
   "id": "aec365bf",
   "metadata": {},
   "outputs": [],
   "source": [
    "Rainbow = \"Some Where Over The Rainbow\""
   ]
  },
  {
   "cell_type": "code",
   "execution_count": 90,
   "id": "308cd6c8",
   "metadata": {},
   "outputs": [
    {
     "data": {
      "text/plain": [
       "'여포는 아버지가 '"
      ]
     },
     "execution_count": 90,
     "metadata": {},
     "output_type": "execute_result"
    }
   ],
   "source": [
    "b = \"여포는 아버지가 ,3\"\n",
    "index_b = b[:b.index(\",\")]\n",
    "index_b"
   ]
  },
  {
   "cell_type": "code",
   "execution_count": 93,
   "id": "8ac2edd0",
   "metadata": {},
   "outputs": [],
   "source": [
    "ab = ([1,2,3,4])"
   ]
  },
  {
   "cell_type": "code",
   "execution_count": 94,
   "id": "8d9794f0",
   "metadata": {},
   "outputs": [],
   "source": [
    "abc = ([\"박씨\",1,\"강씨\",2,\"이씨\",3])"
   ]
  },
  {
   "cell_type": "code",
   "execution_count": 95,
   "id": "8f831110",
   "metadata": {},
   "outputs": [
    {
     "data": {
      "text/plain": [
       "['박씨', 1, '강씨', 2, '이씨', 3]"
      ]
     },
     "execution_count": 95,
     "metadata": {},
     "output_type": "execute_result"
    }
   ],
   "source": [
    "abc"
   ]
  },
  {
   "cell_type": "code",
   "execution_count": 96,
   "id": "39537ad7",
   "metadata": {},
   "outputs": [
    {
     "data": {
      "text/plain": [
       "['이씨', 3]"
      ]
     },
     "execution_count": 96,
     "metadata": {},
     "output_type": "execute_result"
    }
   ],
   "source": [
    "abc[4:6]"
   ]
  },
  {
   "cell_type": "code",
   "execution_count": 110,
   "id": "388b4615",
   "metadata": {},
   "outputs": [],
   "source": [
    "abcd = ([\"박씨, 1\", \"강씨, 2\", \"이씨, 3\"])"
   ]
  },
  {
   "cell_type": "code",
   "execution_count": 124,
   "id": "e2ab3618",
   "metadata": {},
   "outputs": [
    {
     "data": {
      "text/plain": [
       "'강씨'"
      ]
     },
     "execution_count": 124,
     "metadata": {},
     "output_type": "execute_result"
    }
   ],
   "source": [
    "abcd_ind = abcd[1][:abcd[1].index(\",\")]\n",
    "abcd_ind"
   ]
  },
  {
   "cell_type": "code",
   "execution_count": 121,
   "id": "9c0d8d93",
   "metadata": {},
   "outputs": [],
   "source": [
    "a = [\"hi\", 10 , \"890\", \"박쥐\", 88.1, -54]"
   ]
  },
  {
   "cell_type": "code",
   "execution_count": 122,
   "id": "e8f92135",
   "metadata": {},
   "outputs": [
    {
     "data": {
      "text/plain": [
       "int"
      ]
     },
     "execution_count": 122,
     "metadata": {},
     "output_type": "execute_result"
    }
   ],
   "source": [
    "type(a[1])"
   ]
  },
  {
   "cell_type": "code",
   "execution_count": 123,
   "id": "1e62273e",
   "metadata": {},
   "outputs": [
    {
     "data": {
      "text/plain": [
       "str"
      ]
     },
     "execution_count": 123,
     "metadata": {},
     "output_type": "execute_result"
    }
   ],
   "source": [
    "type(a[0])"
   ]
  },
  {
   "cell_type": "code",
   "execution_count": 125,
   "id": "cb51f0b9",
   "metadata": {},
   "outputs": [
    {
     "data": {
      "text/plain": [
       "int"
      ]
     },
     "execution_count": 125,
     "metadata": {},
     "output_type": "execute_result"
    }
   ],
   "source": [
    "type(a[5])"
   ]
  },
  {
   "cell_type": "code",
   "execution_count": 126,
   "id": "10bf42f1",
   "metadata": {},
   "outputs": [
    {
     "data": {
      "text/plain": [
       "float"
      ]
     },
     "execution_count": 126,
     "metadata": {},
     "output_type": "execute_result"
    }
   ],
   "source": [
    "type(a[4])"
   ]
  },
  {
   "cell_type": "code",
   "execution_count": 127,
   "id": "a0bcf0b3",
   "metadata": {},
   "outputs": [],
   "source": [
    "a.append(77)"
   ]
  },
  {
   "cell_type": "code",
   "execution_count": 128,
   "id": "f2017101",
   "metadata": {},
   "outputs": [
    {
     "data": {
      "text/plain": [
       "['hi', 10, '890', '박쥐', 88.1, -54, 77]"
      ]
     },
     "execution_count": 128,
     "metadata": {},
     "output_type": "execute_result"
    }
   ],
   "source": [
    "a"
   ]
  },
  {
   "cell_type": "code",
   "execution_count": 133,
   "id": "5ce92f07",
   "metadata": {},
   "outputs": [
    {
     "data": {
      "text/plain": [
       "10"
      ]
     },
     "execution_count": 133,
     "metadata": {},
     "output_type": "execute_result"
    }
   ],
   "source": [
    "a.pop(1)"
   ]
  },
  {
   "cell_type": "code",
   "execution_count": 136,
   "id": "3bd94412",
   "metadata": {},
   "outputs": [
    {
     "ename": "ValueError",
     "evalue": "6 is not in list",
     "output_type": "error",
     "traceback": [
      "\u001b[1;31m---------------------------------------------------------------------------\u001b[0m",
      "\u001b[1;31mValueError\u001b[0m                                Traceback (most recent call last)",
      "Cell \u001b[1;32mIn[136], line 1\u001b[0m\n\u001b[1;32m----> 1\u001b[0m a\u001b[38;5;241m.\u001b[39mindex(\u001b[38;5;241m6\u001b[39m)\n",
      "\u001b[1;31mValueError\u001b[0m: 6 is not in list"
     ]
    }
   ],
   "source": []
  },
  {
   "cell_type": "code",
   "execution_count": 6,
   "id": "6913cb40",
   "metadata": {},
   "outputs": [
    {
     "name": "stdout",
     "output_type": "stream",
     "text": [
      "50\n",
      "51\n",
      "52\n",
      "53\n",
      "54\n",
      "55\n",
      "56\n",
      "57\n",
      "58\n",
      "59\n",
      "60\n",
      "61\n",
      "62\n",
      "63\n",
      "64\n",
      "65\n",
      "66\n",
      "67\n",
      "68\n",
      "69\n",
      "70\n",
      "71\n",
      "72\n",
      "73\n",
      "74\n",
      "75\n",
      "76\n",
      "77\n",
      "78\n",
      "79\n",
      "80\n",
      "81\n",
      "82\n",
      "83\n"
     ]
    }
   ],
   "source": [
    "a = 50\n",
    "for i in range (34):\n",
    "    print(a)\n",
    "    a = a+1"
   ]
  },
  {
   "cell_type": "code",
   "execution_count": 7,
   "id": "a47a991d",
   "metadata": {},
   "outputs": [],
   "source": []
  },
  {
   "cell_type": "code",
   "execution_count": 24,
   "id": "bcec85fc",
   "metadata": {},
   "outputs": [
    {
     "name": "stdout",
     "output_type": "stream",
     "text": [
      "1 * 1 = 1\n",
      "2 * 2 = 4\n",
      "3 * 3 = 9\n",
      "4 * 4 = 16\n",
      "5 * 5 = 25\n",
      "6 * 6 = 36\n",
      "7 * 7 = 49\n",
      "8 * 8 = 64\n",
      "9 * 9 = 81\n"
     ]
    }
   ],
   "source": [
    "for i,j in zip(range(1,10),range(1,10)):\n",
    "    print(\"{} * {} = {}\".format(i,j,i*j))"
   ]
  },
  {
   "cell_type": "code",
   "execution_count": 30,
   "id": "bc85381f",
   "metadata": {},
   "outputs": [
    {
     "name": "stdout",
     "output_type": "stream",
     "text": [
      "--- 1 단 ---\n",
      "1 * 1 = 1\n",
      "1 * 2 = 2\n",
      "1 * 3 = 3\n",
      "1 * 4 = 4\n",
      "1 * 5 = 5\n",
      "1 * 6 = 6\n",
      "1 * 7 = 7\n",
      "1 * 8 = 8\n",
      "1 * 9 = 9\n",
      "--- 2 단 ---\n",
      "2 * 1 = 2\n",
      "2 * 2 = 4\n",
      "2 * 3 = 6\n",
      "2 * 4 = 8\n",
      "2 * 5 = 10\n",
      "2 * 6 = 12\n",
      "2 * 7 = 14\n",
      "2 * 8 = 16\n",
      "2 * 9 = 18\n",
      "--- 3 단 ---\n",
      "3 * 1 = 3\n",
      "3 * 2 = 6\n",
      "3 * 3 = 9\n",
      "3 * 4 = 12\n",
      "3 * 5 = 15\n",
      "3 * 6 = 18\n",
      "3 * 7 = 21\n",
      "3 * 8 = 24\n",
      "3 * 9 = 27\n",
      "--- 4 단 ---\n",
      "4 * 1 = 4\n",
      "4 * 2 = 8\n",
      "4 * 3 = 12\n",
      "4 * 4 = 16\n",
      "4 * 5 = 20\n",
      "4 * 6 = 24\n",
      "4 * 7 = 28\n",
      "4 * 8 = 32\n",
      "4 * 9 = 36\n",
      "--- 5 단 ---\n",
      "5 * 1 = 5\n",
      "5 * 2 = 10\n",
      "5 * 3 = 15\n",
      "5 * 4 = 20\n",
      "5 * 5 = 25\n",
      "5 * 6 = 30\n",
      "5 * 7 = 35\n",
      "5 * 8 = 40\n",
      "5 * 9 = 45\n",
      "--- 6 단 ---\n",
      "6 * 1 = 6\n",
      "6 * 2 = 12\n",
      "6 * 3 = 18\n",
      "6 * 4 = 24\n",
      "6 * 5 = 30\n",
      "6 * 6 = 36\n",
      "6 * 7 = 42\n",
      "6 * 8 = 48\n",
      "6 * 9 = 54\n",
      "--- 7 단 ---\n",
      "7 * 1 = 7\n",
      "7 * 2 = 14\n",
      "7 * 3 = 21\n",
      "7 * 4 = 28\n",
      "7 * 5 = 35\n",
      "7 * 6 = 42\n",
      "7 * 7 = 49\n",
      "7 * 8 = 56\n",
      "7 * 9 = 63\n",
      "--- 8 단 ---\n",
      "8 * 1 = 8\n",
      "8 * 2 = 16\n",
      "8 * 3 = 24\n",
      "8 * 4 = 32\n",
      "8 * 5 = 40\n",
      "8 * 6 = 48\n",
      "8 * 7 = 56\n",
      "8 * 8 = 64\n",
      "8 * 9 = 72\n",
      "--- 9 단 ---\n",
      "9 * 1 = 9\n",
      "9 * 2 = 18\n",
      "9 * 3 = 27\n",
      "9 * 4 = 36\n",
      "9 * 5 = 45\n",
      "9 * 6 = 54\n",
      "9 * 7 = 63\n",
      "9 * 8 = 72\n",
      "9 * 9 = 81\n"
     ]
    }
   ],
   "source": [
    "a = []\n",
    "for i in range(1,10):\n",
    "    print(\"--- {} 단 ---\".format(i))\n",
    "    for j in range(1,10):\n",
    "        print(\"{} * {} = {}\".format(i,j,i*j))\n",
    "        a.append(i*j)"
   ]
  },
  {
   "cell_type": "code",
   "execution_count": 31,
   "id": "b0e9eba4",
   "metadata": {},
   "outputs": [
    {
     "data": {
      "text/plain": [
       "[1,\n",
       " 2,\n",
       " 3,\n",
       " 4,\n",
       " 5,\n",
       " 6,\n",
       " 7,\n",
       " 8,\n",
       " 9,\n",
       " 2,\n",
       " 4,\n",
       " 6,\n",
       " 8,\n",
       " 10,\n",
       " 12,\n",
       " 14,\n",
       " 16,\n",
       " 18,\n",
       " 3,\n",
       " 6,\n",
       " 9,\n",
       " 12,\n",
       " 15,\n",
       " 18,\n",
       " 21,\n",
       " 24,\n",
       " 27,\n",
       " 4,\n",
       " 8,\n",
       " 12,\n",
       " 16,\n",
       " 20,\n",
       " 24,\n",
       " 28,\n",
       " 32,\n",
       " 36,\n",
       " 5,\n",
       " 10,\n",
       " 15,\n",
       " 20,\n",
       " 25,\n",
       " 30,\n",
       " 35,\n",
       " 40,\n",
       " 45,\n",
       " 6,\n",
       " 12,\n",
       " 18,\n",
       " 24,\n",
       " 30,\n",
       " 36,\n",
       " 42,\n",
       " 48,\n",
       " 54,\n",
       " 7,\n",
       " 14,\n",
       " 21,\n",
       " 28,\n",
       " 35,\n",
       " 42,\n",
       " 49,\n",
       " 56,\n",
       " 63,\n",
       " 8,\n",
       " 16,\n",
       " 24,\n",
       " 32,\n",
       " 40,\n",
       " 48,\n",
       " 56,\n",
       " 64,\n",
       " 72,\n",
       " 9,\n",
       " 18,\n",
       " 27,\n",
       " 36,\n",
       " 45,\n",
       " 54,\n",
       " 63,\n",
       " 72,\n",
       " 81]"
      ]
     },
     "execution_count": 31,
     "metadata": {},
     "output_type": "execute_result"
    }
   ],
   "source": [
    "a"
   ]
  },
  {
   "cell_type": "code",
   "execution_count": 41,
   "id": "f8d7808f",
   "metadata": {},
   "outputs": [
    {
     "name": "stdout",
     "output_type": "stream",
     "text": [
      "70\n",
      "80\n",
      "64\n",
      "81\n"
     ]
    }
   ],
   "source": [
    "for k in range(81):\n",
    "    if a[k] == 64:\n",
    "        print(k)\n",
    "    if a[k] == 81:\n",
    "        print(k)\n",
    "\n",
    "print(a[70])\n",
    "print(a[80])"
   ]
  },
  {
   "cell_type": "code",
   "execution_count": 48,
   "id": "79b1d814",
   "metadata": {},
   "outputs": [],
   "source": [
    "Ice = {\"바밤바\":1500,\"메로나\":1500,\"붕어싸만코\":2000,\"투게더\":5000,\"월드콘\":3000}"
   ]
  },
  {
   "cell_type": "code",
   "execution_count": 46,
   "id": "4050c42c",
   "metadata": {},
   "outputs": [
    {
     "data": {
      "text/plain": [
       "1500"
      ]
     },
     "execution_count": 46,
     "metadata": {},
     "output_type": "execute_result"
    }
   ],
   "source": [
    "Ice[\"바밤바\"]"
   ]
  },
  {
   "cell_type": "code",
   "execution_count": 50,
   "id": "cc79fa11",
   "metadata": {},
   "outputs": [],
   "source": [
    "del Ice[\"월드콘\"]"
   ]
  },
  {
   "cell_type": "code",
   "execution_count": 51,
   "id": "c0763d49",
   "metadata": {},
   "outputs": [],
   "source": [
    "Ice[\"쌍쌍바\"] = (2000)"
   ]
  },
  {
   "cell_type": "code",
   "execution_count": 52,
   "id": "3ff5d8e2",
   "metadata": {},
   "outputs": [
    {
     "data": {
      "text/plain": [
       "{'바밤바': 1500, '메로나': 1500, '붕어싸만코': 2000, '투게더': 5000, '쌍쌍바': 2000}"
      ]
     },
     "execution_count": 52,
     "metadata": {},
     "output_type": "execute_result"
    }
   ],
   "source": [
    "Ice"
   ]
  },
  {
   "cell_type": "code",
   "execution_count": 65,
   "id": "22f2a351",
   "metadata": {},
   "outputs": [],
   "source": [
    "a = [\"1단\",\"2단\",\"3단\",\"4단\",\"5단\",\"6단\",\"7단\",\"8단\",\"9단\"]"
   ]
  },
  {
   "cell_type": "code",
   "execution_count": 66,
   "id": "7a0dd42f",
   "metadata": {},
   "outputs": [
    {
     "name": "stdout",
     "output_type": "stream",
     "text": [
      "-------1단-------\n",
      "1 * 1 = 1\n",
      "1 * 2 = 2\n",
      "1 * 3 = 3\n",
      "1 * 4 = 4\n",
      "1 * 5 = 5\n",
      "1 * 6 = 6\n",
      "1 * 7 = 7\n",
      "1 * 8 = 8\n",
      "1 * 9 = 9\n",
      "-------2단-------\n",
      "2 * 1 = 2\n",
      "2 * 2 = 4\n",
      "2 * 3 = 6\n",
      "2 * 4 = 8\n",
      "2 * 5 = 10\n",
      "2 * 6 = 12\n",
      "2 * 7 = 14\n",
      "2 * 8 = 16\n",
      "2 * 9 = 18\n",
      "-------3단-------\n",
      "3 * 1 = 3\n",
      "3 * 2 = 6\n",
      "3 * 3 = 9\n",
      "3 * 4 = 12\n",
      "3 * 5 = 15\n",
      "3 * 6 = 18\n",
      "3 * 7 = 21\n",
      "3 * 8 = 24\n",
      "3 * 9 = 27\n",
      "-------4단-------\n",
      "4 * 1 = 4\n",
      "4 * 2 = 8\n",
      "4 * 3 = 12\n",
      "4 * 4 = 16\n",
      "4 * 5 = 20\n",
      "4 * 6 = 24\n",
      "4 * 7 = 28\n",
      "4 * 8 = 32\n",
      "4 * 9 = 36\n",
      "-------5단-------\n",
      "5 * 1 = 5\n",
      "5 * 2 = 10\n",
      "5 * 3 = 15\n",
      "5 * 4 = 20\n",
      "5 * 5 = 25\n",
      "5 * 6 = 30\n",
      "5 * 7 = 35\n",
      "5 * 8 = 40\n",
      "5 * 9 = 45\n",
      "-------6단-------\n",
      "6 * 1 = 6\n",
      "6 * 2 = 12\n",
      "6 * 3 = 18\n",
      "6 * 4 = 24\n",
      "6 * 5 = 30\n",
      "6 * 6 = 36\n",
      "6 * 7 = 42\n",
      "6 * 8 = 48\n",
      "6 * 9 = 54\n",
      "-------7단-------\n",
      "7 * 1 = 7\n",
      "7 * 2 = 14\n",
      "7 * 3 = 21\n",
      "7 * 4 = 28\n",
      "7 * 5 = 35\n",
      "7 * 6 = 42\n",
      "7 * 7 = 49\n",
      "7 * 8 = 56\n",
      "7 * 9 = 63\n",
      "-------8단-------\n",
      "8 * 1 = 8\n",
      "8 * 2 = 16\n",
      "8 * 3 = 24\n",
      "8 * 4 = 32\n",
      "8 * 5 = 40\n",
      "8 * 6 = 48\n",
      "8 * 7 = 56\n",
      "8 * 8 = 64\n",
      "8 * 9 = 72\n",
      "-------9단-------\n",
      "9 * 1 = 9\n",
      "9 * 2 = 18\n",
      "9 * 3 = 27\n",
      "9 * 4 = 36\n",
      "9 * 5 = 45\n",
      "9 * 6 = 54\n",
      "9 * 7 = 63\n",
      "9 * 8 = 72\n",
      "9 * 9 = 81\n"
     ]
    }
   ],
   "source": [
    "for i in range(1,10):\n",
    "    print(\"-------{}-------\".format(a[i-1])) \n",
    "    for j in range(1,10):\n",
    "        print(\"{} * {} = {}\".format(i,j,i*j))"
   ]
  },
  {
   "cell_type": "code",
   "execution_count": 67,
   "id": "8f0c6bf2",
   "metadata": {},
   "outputs": [
    {
     "name": "stdout",
     "output_type": "stream",
     "text": [
      "1\n",
      "1\n",
      "2\n",
      "2\n",
      "3\n",
      "3\n",
      "4\n",
      "4\n",
      "5\n",
      "5\n",
      "6\n",
      "6\n",
      "7\n",
      "7\n",
      "8\n",
      "8\n",
      "9\n",
      "9\n"
     ]
    }
   ],
   "source": [
    "for j,k in zip(range(1,10),range(1,10)):\n",
    "    print(j)\n",
    "    print(k)"
   ]
  },
  {
   "cell_type": "code",
   "execution_count": 82,
   "id": "b7552f3a",
   "metadata": {
    "scrolled": false
   },
   "outputs": [
    {
     "name": "stdout",
     "output_type": "stream",
     "text": [
      "* \n",
      "** \n",
      "*** \n",
      "**** \n",
      "***** \n",
      "****** \n",
      "******* \n",
      "******** \n"
     ]
    }
   ],
   "source": [
    "k = 1\n",
    "for i in range(1,9):\n",
    "    for j in range(1,9):\n",
    "        print(\"*\",end = '')\n",
    "        if k == j:\n",
    "            break\n",
    "    k = k+1\n",
    "    print(\" \")"
   ]
  },
  {
   "cell_type": "code",
   "execution_count": 53,
   "id": "666cca06",
   "metadata": {},
   "outputs": [],
   "source": []
  },
  {
   "cell_type": "code",
   "execution_count": 7,
   "id": "cdcbb4d8",
   "metadata": {},
   "outputs": [],
   "source": [
    "def addi (a,b):\n",
    "    return a+b"
   ]
  },
  {
   "cell_type": "code",
   "execution_count": 8,
   "id": "7a21e87b",
   "metadata": {},
   "outputs": [
    {
     "data": {
      "text/plain": [
       "50"
      ]
     },
     "execution_count": 8,
     "metadata": {},
     "output_type": "execute_result"
    }
   ],
   "source": [
    "addi(20, 30)"
   ]
  },
  {
   "cell_type": "code",
   "execution_count": 9,
   "id": "1a887fab",
   "metadata": {},
   "outputs": [],
   "source": [
    "a = ('안녕하세요 인공지능 수업에 오신것을 환영합니다.')"
   ]
  },
  {
   "cell_type": "code",
   "execution_count": 11,
   "id": "f7e837bf",
   "metadata": {},
   "outputs": [
    {
     "name": "stdout",
     "output_type": "stream",
     "text": [
      "안녕하세요 인공지능 수업에 오신것을 환영합니다.\n"
     ]
    }
   ],
   "source": [
    "print(a)"
   ]
  },
  {
   "cell_type": "code",
   "execution_count": 17,
   "id": "1c92cadd",
   "metadata": {},
   "outputs": [],
   "source": [
    "def a__1 (a,b):\n",
    "    c = a + b\n",
    "    print('done')\n",
    "    d = 55\n",
    "    return c, a+b,d"
   ]
  },
  {
   "cell_type": "code",
   "execution_count": 18,
   "id": "cf7aa117",
   "metadata": {},
   "outputs": [
    {
     "name": "stdout",
     "output_type": "stream",
     "text": [
      "done\n"
     ]
    },
    {
     "data": {
      "text/plain": [
       "(10, 10, 55)"
      ]
     },
     "execution_count": 18,
     "metadata": {},
     "output_type": "execute_result"
    }
   ],
   "source": [
    "a__1(5,5)"
   ]
  },
  {
   "cell_type": "code",
   "execution_count": 21,
   "id": "52551fe9",
   "metadata": {},
   "outputs": [
    {
     "data": {
      "text/plain": [
       "'인공지능'"
      ]
     },
     "execution_count": 21,
     "metadata": {},
     "output_type": "execute_result"
    }
   ],
   "source": [
    "a[6:10]"
   ]
  },
  {
   "cell_type": "code",
   "execution_count": 33,
   "id": "90362be6",
   "metadata": {},
   "outputs": [],
   "source": [
    "def Ai_return () :\n",
    "    n = input()\n",
    "    print('안녕하세요 {}님 인공지능 수업에 오신것을 환영합니다.'.format(n))\n",
    "    "
   ]
  },
  {
   "cell_type": "code",
   "execution_count": 34,
   "id": "135c628a",
   "metadata": {},
   "outputs": [
    {
     "name": "stdout",
     "output_type": "stream",
     "text": [
      "홍길동\n",
      "안녕하세요 홍길동님 인공지능 수업에 오신것을 환영합니다.\n"
     ]
    }
   ],
   "source": [
    "Ai_return()"
   ]
  },
  {
   "cell_type": "code",
   "execution_count": 35,
   "id": "86725c5a",
   "metadata": {},
   "outputs": [],
   "source": [
    "list_a = [1,5,5,7,3,6,88,12,5,74,4,8,64,2,7,89,33,1,6,8,1,5,6,7]"
   ]
  },
  {
   "cell_type": "code",
   "execution_count": 36,
   "id": "cb682baa",
   "metadata": {},
   "outputs": [
    {
     "name": "stdout",
     "output_type": "stream",
     "text": [
      "[1, 5, 5, 7, 3, 6, 88, 12, 5, 74, 4, 8, 64, 2, 7, 89, 33, 1, 6, 8, 1, 5, 6, 7]\n"
     ]
    }
   ],
   "source": [
    "print(list_a)"
   ]
  },
  {
   "cell_type": "code",
   "execution_count": 38,
   "id": "30ae8068",
   "metadata": {},
   "outputs": [
    {
     "data": {
      "text/plain": [
       "6"
      ]
     },
     "execution_count": 38,
     "metadata": {},
     "output_type": "execute_result"
    }
   ],
   "source": [
    "list_a.index(88)"
   ]
  },
  {
   "cell_type": "code",
   "execution_count": 39,
   "id": "fdeea95c",
   "metadata": {},
   "outputs": [],
   "source": [
    "List_b = ['Jone-30', 'Park-30', 'Kim-20', 'Lee-10', 'Oh-32', 'Kang-25']"
   ]
  },
  {
   "cell_type": "code",
   "execution_count": 40,
   "id": "def598b5",
   "metadata": {},
   "outputs": [
    {
     "data": {
      "text/plain": [
       "['Jone-30', 'Park-30', 'Kim-20', 'Lee-10', 'Oh-32', 'Kang-25']"
      ]
     },
     "execution_count": 40,
     "metadata": {},
     "output_type": "execute_result"
    }
   ],
   "source": [
    "List_b"
   ]
  },
  {
   "cell_type": "code",
   "execution_count": 56,
   "id": "36546df0",
   "metadata": {},
   "outputs": [],
   "source": [
    "def LRP ():\n",
    "    a = input()\n",
    "    index_list = List_b[a]\n",
    "    index_b = index_list[:b.index(\"-\")]\n",
    "    return index_b"
   ]
  },
  {
   "cell_type": "code",
   "execution_count": 54,
   "id": "06e2969d",
   "metadata": {},
   "outputs": [],
   "source": [
    "b = ('A,b')\n",
    "index_b = b[:b.index(\",\")]"
   ]
  },
  {
   "cell_type": "code",
   "execution_count": 55,
   "id": "dc0f9f0b",
   "metadata": {},
   "outputs": [
    {
     "data": {
      "text/plain": [
       "'A'"
      ]
     },
     "execution_count": 55,
     "metadata": {},
     "output_type": "execute_result"
    }
   ],
   "source": [
    "index_b"
   ]
  },
  {
   "cell_type": "code",
   "execution_count": 72,
   "id": "4329a8cf",
   "metadata": {},
   "outputs": [],
   "source": [
    "def Chat_bot(a):\n",
    "    c = 0\n",
    "    while True:\n",
    "        print('핸드폰에 어떠한 문재가 있나요? : ',end = '')\n",
    "        b = input()\n",
    "        if b == '액정파손':\n",
    "            c =+ 200000\n",
    "            \n",
    "        elif b == '카메라 문제':\n",
    "            c =+ 100000\n",
    "            \n",
    "        elif b == '터치불량':\n",
    "            c =+ 100000\n",
    "            \n",
    "        elif b == '배터리불량':\n",
    "            c =+ 100000\n",
    "            \n",
    "        elif b == '그만' :\n",
    "            break\n",
    "            \n",
    "    print('종료중')\n",
    "    return a - c"
   ]
  },
  {
   "cell_type": "code",
   "execution_count": 73,
   "id": "bd3c8226",
   "metadata": {},
   "outputs": [
    {
     "name": "stdout",
     "output_type": "stream",
     "text": [
      "핸드폰에 어떠한 문재가 있나요? : 액정파손\n",
      "핸드폰에 어떠한 문재가 있나요? : 터치불량\n",
      "핸드폰에 어떠한 문재가 있나요? : 그만\n",
      "종료중\n"
     ]
    },
    {
     "data": {
      "text/plain": [
       "900000"
      ]
     },
     "execution_count": 73,
     "metadata": {},
     "output_type": "execute_result"
    }
   ],
   "source": [
    "Chat_bot(1000000)"
   ]
  },
  {
   "cell_type": "code",
   "execution_count": 78,
   "id": "fb88e734",
   "metadata": {},
   "outputs": [],
   "source": [
    "URL =\"https://www.youtube.com/\"\n",
    "str =URL.replace(\"https://\", \"\")"
   ]
  },
  {
   "cell_type": "code",
   "execution_count": 95,
   "id": "ed51e45c",
   "metadata": {},
   "outputs": [],
   "source": [
    "List_b = ['Jone-30', 'Park-30', 'Kim-20', 'Lee-10', 'Oh-32', 'Kang-25']"
   ]
  },
  {
   "cell_type": "code",
   "execution_count": 96,
   "id": "3e4c7605",
   "metadata": {},
   "outputs": [
    {
     "name": "stdout",
     "output_type": "stream",
     "text": [
      "0\n",
      "1\n",
      "2\n",
      "3\n",
      "4\n",
      "5\n"
     ]
    }
   ],
   "source": [
    "j = 0\n",
    "for i in List_b:\n",
    "    print(j)\n",
    "    List_b[j] = List_b[j].replace(\"-\", \"/\")\n",
    "    j=j+1"
   ]
  },
  {
   "cell_type": "code",
   "execution_count": 97,
   "id": "9765a4a9",
   "metadata": {},
   "outputs": [
    {
     "data": {
      "text/plain": [
       "['Jone/30', 'Park/30', 'Kim/20', 'Lee/10', 'Oh/32', 'Kang/25']"
      ]
     },
     "execution_count": 97,
     "metadata": {},
     "output_type": "execute_result"
    }
   ],
   "source": [
    "List_b"
   ]
  },
  {
   "cell_type": "code",
   "execution_count": 98,
   "id": "2249379c",
   "metadata": {},
   "outputs": [
    {
     "data": {
      "text/plain": [
       "[1, 5, 5, 7, 3, 6, 88, 12, 5, 74, 4, 8, 64, 2, 7, 89, 33, 1, 6, 8, 1, 5, 6, 7]"
      ]
     },
     "execution_count": 98,
     "metadata": {},
     "output_type": "execute_result"
    }
   ],
   "source": [
    "list_a"
   ]
  },
  {
   "cell_type": "code",
   "execution_count": 102,
   "id": "acdc4cff",
   "metadata": {},
   "outputs": [],
   "source": [
    "list_a_a = []\n",
    "list_a_b = []\n",
    "for i in list_a:\n",
    "    if i > 50:\n",
    "        list_a_a.append(i)\n",
    "    else :\n",
    "        list_a_b.append(i)"
   ]
  },
  {
   "cell_type": "code",
   "execution_count": 103,
   "id": "a9018b91",
   "metadata": {},
   "outputs": [
    {
     "data": {
      "text/plain": [
       "[88, 74, 64, 89]"
      ]
     },
     "execution_count": 103,
     "metadata": {},
     "output_type": "execute_result"
    }
   ],
   "source": [
    "list_a_a"
   ]
  },
  {
   "cell_type": "code",
   "execution_count": 104,
   "id": "292642b7",
   "metadata": {},
   "outputs": [
    {
     "data": {
      "text/plain": [
       "[1, 5, 5, 7, 3, 6, 12, 5, 4, 8, 2, 7, 33, 1, 6, 8, 1, 5, 6, 7]"
      ]
     },
     "execution_count": 104,
     "metadata": {},
     "output_type": "execute_result"
    }
   ],
   "source": [
    "list_a_b"
   ]
  },
  {
   "cell_type": "code",
   "execution_count": 2,
   "id": "06093ae6",
   "metadata": {},
   "outputs": [],
   "source": [
    "list_c = []"
   ]
  },
  {
   "cell_type": "code",
   "execution_count": 7,
   "id": "f6dd68c3",
   "metadata": {},
   "outputs": [
    {
     "name": "stdout",
     "output_type": "stream",
     "text": [
      "20\n",
      "50\n",
      "51\n",
      "6\n",
      "74\n",
      "2\n",
      "67\n",
      "-5\n",
      "-10\n",
      "-50\n",
      "-56\n",
      "-19\n",
      "55\n",
      "0\n",
      "입력한 숫자의 모든 합 : 325\n"
     ]
    }
   ],
   "source": [
    "b = 0\n",
    "while True:\n",
    "    a = int(input())\n",
    "    if a > 0 :\n",
    "        b = b + a\n",
    "        list_c.append(a)\n",
    "    elif a < 0:\n",
    "        continue\n",
    "    else :\n",
    "        print('입력한 숫자의 모든 합 : {}'.format(b))\n",
    "        return True \n",
    "    "
   ]
  },
  {
   "cell_type": "code",
   "execution_count": 8,
   "id": "b4e68457",
   "metadata": {},
   "outputs": [
    {
     "data": {
      "text/plain": [
       "[20, 50, 51, 6, 74, 2, 67, 55]"
      ]
     },
     "execution_count": 8,
     "metadata": {},
     "output_type": "execute_result"
    }
   ],
   "source": [
    "list_c\n"
   ]
  },
  {
   "cell_type": "code",
   "execution_count": 132,
   "id": "8357d55a",
   "metadata": {},
   "outputs": [],
   "source": [
    "def ThKW (a,b,c):\n",
    "    a = a*a\n",
    "    b = b*b\n",
    "    c = c*c\n",
    "    return a+b+c"
   ]
  },
  {
   "cell_type": "code",
   "execution_count": 133,
   "id": "566edec9",
   "metadata": {},
   "outputs": [
    {
     "data": {
      "text/plain": [
       "14"
      ]
     },
     "execution_count": 133,
     "metadata": {},
     "output_type": "execute_result"
    }
   ],
   "source": [
    "ThKW(1,2,3)"
   ]
  },
  {
   "cell_type": "code",
   "execution_count": 9,
   "id": "3c57734d",
   "metadata": {},
   "outputs": [
    {
     "name": "stdout",
     "output_type": "stream",
     "text": [
      "어서오세요 AI식당입니다. \n",
      " 햄버거 : 15000원 \n",
      " 피자 : 22000원 \n",
      " 음료 : 2000원 \n",
      " 감자튀김 5000원 \n",
      " 구매하고 싶은 품목을 선택해주세요.(done to exit) : 햄버거\n",
      "구매하실 수량을 입렫해주세요. :7\n",
      "현재 총 구매 금액은 105000원 입니다.\n",
      "어서오세요 AI식당입니다. \n",
      " 햄버거 : 15000원 \n",
      " 피자 : 22000원 \n",
      " 음료 : 2000원 \n",
      " 감자튀김 5000원 \n",
      " 구매하고 싶은 품목을 선택해주세요.(done to exit) : 감자튀김\n",
      "구매하실 수량을 입렫해주세요. :11\n",
      "현재 총 구매 금액은 160000원 입니다.\n",
      "어서오세요 AI식당입니다. \n",
      " 햄버거 : 15000원 \n",
      " 피자 : 22000원 \n",
      " 음료 : 2000원 \n",
      " 감자튀김 5000원 \n",
      " 구매하고 싶은 품목을 선택해주세요.(done to exit) : 음료\n",
      "구매하실 수량을 입렫해주세요. :30\n",
      "현재 총 구매 금액은 220000원 입니다.\n",
      "어서오세요 AI식당입니다. \n",
      " 햄버거 : 15000원 \n",
      " 피자 : 22000원 \n",
      " 음료 : 2000원 \n",
      " 감자튀김 5000원 \n",
      " 구매하고 싶은 품목을 선택해주세요.(done to exit) : 피자\n",
      "구매하실 수량을 입렫해주세요. :4\n",
      "현재 총 구매 금액은 308000원 입니다.\n",
      "어서오세요 AI식당입니다. \n",
      " 햄버거 : 15000원 \n",
      " 피자 : 22000원 \n",
      " 음료 : 2000원 \n",
      " 감자튀김 5000원 \n",
      " 구매하고 싶은 품목을 선택해주세요.(done to exit) : done\n",
      "귀하의 총 구매금액은 308000원 입니다.금액을 투입하세요.: 400000\n",
      "투입금액은 400000원 이고, 거스름돈은 92000원 입니다. \n",
      "감사합니다. 안녕히 가세요\n"
     ]
    }
   ],
   "source": [
    "price = 0\n",
    "ham = 15000\n",
    "piz = 22000\n",
    "drink = 2000\n",
    "fried = 5000\n",
    "pay = 0\n",
    "\n",
    "while True:\n",
    "    print('어서오세요 AI식당입니다. \\n 햄버거 : 15000원 \\n 피자 : 22000원 \\n 음료 : 2000원 \\n 감자튀김 5000원 \\n 구매하고 싶은 품목을 선택해주세요.(done to exit) : ', end = '')\n",
    "    a = input()\n",
    "    if a == '햄버거':\n",
    "        print('구매하실 수량을 입렫해주세요. :', end = \"\")\n",
    "        b = int(input())\n",
    "        price = price + (ham * b)\n",
    "    elif a == '피자':\n",
    "        print('구매하실 수량을 입렫해주세요. :', end = \"\")\n",
    "        b = int(input())\n",
    "        price = price + (piz * b)  \n",
    "    elif a == '음료':\n",
    "        print('구매하실 수량을 입렫해주세요. :', end = \"\")\n",
    "        b = int(input())\n",
    "        price = price + (drink * b)\n",
    "    elif a == '감자튀김':\n",
    "        print('구매하실 수량을 입렫해주세요. :', end = \"\")\n",
    "        b = int(input())\n",
    "        price = price + (fried * b)\n",
    "    elif a == 'done':\n",
    "        print('귀하의 총 구매금액은 {}원 입니다.'.format(price), end = \"\")\n",
    "        print('금액을 투입하세요.: ',end = \"\")\n",
    "        b = int(input())\n",
    "        print('투입금액은 {}원 이고, 거스름돈은 {}원 입니다. \\n감사합니다. 안녕히 가세요'.format(b, b-price))\n",
    "        return True\n",
    "    print('현재 총 구매 금액은 {}원 입니다.'.format(price))\n",
    "    "
   ]
  },
  {
   "cell_type": "code",
   "execution_count": 16,
   "id": "99cc789c",
   "metadata": {},
   "outputs": [],
   "source": [
    "def Phone_Price ():\n",
    "    print('가격 입력')\n",
    "    price = float(input())\n",
    "    while True:\n",
    "        print('불량 항목을 입력하시오 (done to exit)')\n",
    "        a = input()\n",
    "        if a == '액정파손':\n",
    "            price = price - 50000\n",
    "        elif a == '카메라 문제':\n",
    "            price = price - 70000\n",
    "        elif a == '터치불량':\n",
    "            price = price - 90000\n",
    "        elif a == 'done':\n",
    "            print('핸드폰 가격은 {} 입니다.'.format(price))\n",
    "            return True\n",
    "            \n",
    "            "
   ]
  },
  {
   "cell_type": "code",
   "execution_count": 15,
   "id": "eadc9920",
   "metadata": {},
   "outputs": [
    {
     "name": "stdout",
     "output_type": "stream",
     "text": [
      "가격 입력\n",
      "1000000\n",
      "불량 항목을 입력하시오 (done to exit)\n",
      "액정파손\n",
      "불량 항목을 입력하시오 (done to exit)\n",
      "터치불량\n",
      "불량 항목을 입력하시오 (done to exit)\n",
      "카메라 문제\n",
      "불량 항목을 입력하시오 (done to exit)\n",
      "done\n",
      "핸드폰 가격은 790000.0 입니다.\n"
     ]
    },
    {
     "data": {
      "text/plain": [
       "True"
      ]
     },
     "execution_count": 15,
     "metadata": {},
     "output_type": "execute_result"
    }
   ],
   "source": [
    "Phone_Price()"
   ]
  },
  {
   "cell_type": "code",
   "execution_count": 57,
   "id": "a657d9f6",
   "metadata": {},
   "outputs": [],
   "source": [
    "def Phone_Price_ (*args, price):\n",
    "    c = 0\n",
    "    for i in args:\n",
    "        if i == '액정파손':\n",
    "            c = c + 10000\n",
    "            print(c)\n",
    "        elif i == '카메라 문제':\n",
    "            c = c + 50000\n",
    "            print(c)\n",
    "        elif i == '터치불량':\n",
    "            c = c + 10000\n",
    "            print(c)\n",
    "    print(args)\n",
    "    return price - c"
   ]
  },
  {
   "cell_type": "code",
   "execution_count": 58,
   "id": "8ba55fc5",
   "metadata": {},
   "outputs": [
    {
     "name": "stdout",
     "output_type": "stream",
     "text": [
      "10000\n",
      "60000\n",
      "70000\n",
      "('액정파손', '카메라 문제', '터치불량')\n"
     ]
    },
    {
     "data": {
      "text/plain": [
       "430000"
      ]
     },
     "execution_count": 58,
     "metadata": {},
     "output_type": "execute_result"
    }
   ],
   "source": [
    "Phone_Price_(\"액정파손\", \"카메라 문제\", \"터치불량\", price = 500000)"
   ]
  },
  {
   "cell_type": "code",
   "execution_count": 25,
   "id": "59657934",
   "metadata": {},
   "outputs": [],
   "source": [
    "def num(*args, name):\n",
    "    print(sum(args), name)"
   ]
  },
  {
   "cell_type": "code",
   "execution_count": 27,
   "id": "ff0aae30",
   "metadata": {},
   "outputs": [
    {
     "name": "stdout",
     "output_type": "stream",
     "text": [
      "36 한석봉\n"
     ]
    }
   ],
   "source": [
    "num(1,2,3,4,5,6,7,8,name = '한석봉')"
   ]
  },
  {
   "cell_type": "code",
   "execution_count": 59,
   "id": "a0d08392",
   "metadata": {},
   "outputs": [],
   "source": [
    "a = 20"
   ]
  },
  {
   "cell_type": "code",
   "execution_count": 60,
   "id": "e087a5a4",
   "metadata": {},
   "outputs": [],
   "source": [
    "b = 30"
   ]
  },
  {
   "cell_type": "code",
   "execution_count": 62,
   "id": "7360001a",
   "metadata": {},
   "outputs": [
    {
     "name": "stdout",
     "output_type": "stream",
     "text": [
      "50\n"
     ]
    }
   ],
   "source": [
    "print(a+b)"
   ]
  },
  {
   "cell_type": "code",
   "execution_count": 63,
   "id": "6d035895",
   "metadata": {},
   "outputs": [],
   "source": [
    "a = (\"안녕하세요 인공지능 수업에 오신것을 환영합니다.\")"
   ]
  },
  {
   "cell_type": "code",
   "execution_count": 66,
   "id": "7094e1b2",
   "metadata": {},
   "outputs": [
    {
     "name": "stdout",
     "output_type": "stream",
     "text": [
      "인공지능 \n"
     ]
    }
   ],
   "source": [
    "print(a[6:11])"
   ]
  },
  {
   "cell_type": "code",
   "execution_count": 67,
   "id": "1359ef1d",
   "metadata": {},
   "outputs": [
    {
     "name": "stdout",
     "output_type": "stream",
     "text": [
      "한석봉\n",
      "안녕하세요 한석봉님 인공지능 수업에 오신것을 환영합니다.\n"
     ]
    }
   ],
   "source": [
    "a = input()\n",
    "print(\"안녕하세요 {}님 인공지능 수업에 오신것을 환영합니다.\".format(a))"
   ]
  },
  {
   "cell_type": "code",
   "execution_count": 98,
   "id": "c061b1d3",
   "metadata": {},
   "outputs": [],
   "source": [
    "a = [1, 5, 5, 7, 3, 6, 88, 12, 5, 74, 4, 8, 64, 2, 7, 89, 33, 1, 6, 8, 1, 5, 6, 7]"
   ]
  },
  {
   "cell_type": "code",
   "execution_count": 99,
   "id": "1bc6b332",
   "metadata": {},
   "outputs": [
    {
     "ename": "TypeError",
     "evalue": "'list' object cannot be interpreted as an integer",
     "output_type": "error",
     "traceback": [
      "\u001b[1;31m---------------------------------------------------------------------------\u001b[0m",
      "\u001b[1;31mTypeError\u001b[0m                                 Traceback (most recent call last)",
      "Cell \u001b[1;32mIn[99], line 1\u001b[0m\n\u001b[1;32m----> 1\u001b[0m \u001b[38;5;28;01mfor\u001b[39;00m i \u001b[38;5;129;01min\u001b[39;00m \u001b[38;5;28mrange\u001b[39m(a):\n\u001b[0;32m      2\u001b[0m     \u001b[38;5;28mprint\u001b[39m(i)\n",
      "\u001b[1;31mTypeError\u001b[0m: 'list' object cannot be interpreted as an integer"
     ]
    }
   ],
   "source": [
    "for i in range(a):\n",
    "    print(i)"
   ]
  },
  {
   "cell_type": "code",
   "execution_count": 69,
   "id": "4b574080",
   "metadata": {},
   "outputs": [
    {
     "name": "stdout",
     "output_type": "stream",
     "text": [
      "[1, 5, 5, 7, 3, 6, 88, 12, 5, 74, 4, 8, 64, 2, 7, 89, 33, 1, 6, 8, 1, 5, 6, 7]\n"
     ]
    }
   ],
   "source": [
    "print(a)"
   ]
  },
  {
   "cell_type": "code",
   "execution_count": 71,
   "id": "997710e0",
   "metadata": {},
   "outputs": [
    {
     "data": {
      "text/plain": [
       "6"
      ]
     },
     "execution_count": 71,
     "metadata": {},
     "output_type": "execute_result"
    }
   ],
   "source": [
    "a.index(88)"
   ]
  },
  {
   "cell_type": "code",
   "execution_count": 91,
   "id": "3bd0437c",
   "metadata": {},
   "outputs": [],
   "source": [
    "a = ['Jone-30', 'Park-30', 'Kim-20', 'Lee-10', 'Oh-32', 'Kang-25']"
   ]
  },
  {
   "cell_type": "code",
   "execution_count": 89,
   "id": "1ed0353b",
   "metadata": {},
   "outputs": [
    {
     "data": {
      "text/plain": [
       "'Lee'"
      ]
     },
     "execution_count": 89,
     "metadata": {},
     "output_type": "execute_result"
    }
   ],
   "source": [
    "a[3][:a[3].index(\"-\")]"
   ]
  },
  {
   "cell_type": "code",
   "execution_count": 104,
   "id": "26559420",
   "metadata": {},
   "outputs": [
    {
     "ename": "NameError",
     "evalue": "name 'lengh' is not defined",
     "output_type": "error",
     "traceback": [
      "\u001b[1;31m---------------------------------------------------------------------------\u001b[0m",
      "\u001b[1;31mNameError\u001b[0m                                 Traceback (most recent call last)",
      "Cell \u001b[1;32mIn[104], line 1\u001b[0m\n\u001b[1;32m----> 1\u001b[0m \u001b[38;5;28;01mfor\u001b[39;00m i \u001b[38;5;129;01min\u001b[39;00m \u001b[38;5;28mrange\u001b[39m(lengh(a)):\n\u001b[0;32m      2\u001b[0m     a[i]\u001b[38;5;241m.\u001b[39mreplace(\u001b[38;5;124m\"\u001b[39m\u001b[38;5;124m-\u001b[39m\u001b[38;5;124m\"\u001b[39m,\u001b[38;5;124m\"\u001b[39m\u001b[38;5;124m/\u001b[39m\u001b[38;5;124m\"\u001b[39m)\n",
      "\u001b[1;31mNameError\u001b[0m: name 'lengh' is not defined"
     ]
    }
   ],
   "source": [
    "for i in range(len(a)):\n",
    "    a[i].replace(\"-\",\"/\")"
   ]
  },
  {
   "cell_type": "code",
   "execution_count": null,
   "id": "51317a28",
   "metadata": {},
   "outputs": [],
   "source": []
  }
 ],
 "metadata": {
  "kernelspec": {
   "display_name": "nw",
   "language": "python",
   "name": "nw"
  },
  "language_info": {
   "codemirror_mode": {
    "name": "ipython",
    "version": 3
   },
   "file_extension": ".py",
   "mimetype": "text/x-python",
   "name": "python",
   "nbconvert_exporter": "python",
   "pygments_lexer": "ipython3",
   "version": "3.11.0"
  }
 },
 "nbformat": 4,
 "nbformat_minor": 5
}
