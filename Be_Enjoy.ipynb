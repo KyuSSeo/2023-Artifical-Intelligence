{
  "nbformat": 4,
  "nbformat_minor": 0,
  "metadata": {
    "colab": {
      "provenance": [],
      "authorship_tag": "ABX9TyPaCRumJGLm322DqbNCuO1r",
      "include_colab_link": true
    },
    "kernelspec": {
      "name": "python3",
      "display_name": "Python 3"
    },
    "language_info": {
      "name": "python"
    }
  },
  "cells": [
    {
      "cell_type": "markdown",
      "metadata": {
        "id": "view-in-github",
        "colab_type": "text"
      },
      "source": [
        "<a href=\"https://colab.research.google.com/github/KyuSSeo/2023-Artifical-Intelligence/blob/main/Be_Enjoy.ipynb\" target=\"_parent\"><img src=\"https://colab.research.google.com/assets/colab-badge.svg\" alt=\"Open In Colab\"/></a>"
      ]
    },
    {
      "cell_type": "code",
      "execution_count": 4,
      "metadata": {
        "id": "K6TxoJcTCI9-"
      },
      "outputs": [],
      "source": [
        "import numpy as np\n",
        "import matplotlib as mlb\n",
        "import pandas as pd\n",
        "import matplotlib.pyplot as plt"
      ]
    },
    {
      "cell_type": "code",
      "source": [
        "name = input()  "
      ],
      "metadata": {
        "colab": {
          "base_uri": "https://localhost:8080/"
        },
        "id": "SKmIlSCkCgO0",
        "outputId": "ccb68dc2-eb57-48a9-c48f-ea765fef82e6"
      },
      "execution_count": 6,
      "outputs": [
        {
          "name": "stdout",
          "output_type": "stream",
          "text": [
            "a\n"
          ]
        }
      ]
    },
    {
      "cell_type": "code",
      "source": [
        "age = int(input())"
      ],
      "metadata": {
        "colab": {
          "base_uri": "https://localhost:8080/"
        },
        "id": "S9Etlxt4DJAv",
        "outputId": "89a9dde4-5cad-4a68-be4a-b10f4e9311f7"
      },
      "execution_count": 12,
      "outputs": [
        {
          "name": "stdout",
          "output_type": "stream",
          "text": [
            "99\n"
          ]
        }
      ]
    },
    {
      "cell_type": "code",
      "source": [
        "print (('이름 : {}, 나이 : {}').format(name,age))"
      ],
      "metadata": {
        "colab": {
          "base_uri": "https://localhost:8080/"
        },
        "id": "DtElfgvWDfdO",
        "outputId": "96b29edd-6545-4cfc-c68c-bbce0f42336b"
      },
      "execution_count": 13,
      "outputs": [
        {
          "output_type": "stream",
          "name": "stdout",
          "text": [
            "이름a, 나이99\n"
          ]
        }
      ]
    },
    {
      "cell_type": "code",
      "source": [
        "for i in range (1,10):\n",
        "  print(('------{}-----').format(i))\n",
        "  for j in range (1,10):\n",
        "    print(('{}x{}={}').format(i,j,i*j))"
      ],
      "metadata": {
        "colab": {
          "base_uri": "https://localhost:8080/"
        },
        "id": "7zEaDwVQD7pO",
        "outputId": "6653f01d-2451-46ca-f734-988b826bcc48"
      },
      "execution_count": 14,
      "outputs": [
        {
          "output_type": "stream",
          "name": "stdout",
          "text": [
            "------1-----\n",
            "1x1=1\n",
            "1x2=2\n",
            "1x3=3\n",
            "1x4=4\n",
            "1x5=5\n",
            "1x6=6\n",
            "1x7=7\n",
            "1x8=8\n",
            "1x9=9\n",
            "------2-----\n",
            "2x1=2\n",
            "2x2=4\n",
            "2x3=6\n",
            "2x4=8\n",
            "2x5=10\n",
            "2x6=12\n",
            "2x7=14\n",
            "2x8=16\n",
            "2x9=18\n",
            "------3-----\n",
            "3x1=3\n",
            "3x2=6\n",
            "3x3=9\n",
            "3x4=12\n",
            "3x5=15\n",
            "3x6=18\n",
            "3x7=21\n",
            "3x8=24\n",
            "3x9=27\n",
            "------4-----\n",
            "4x1=4\n",
            "4x2=8\n",
            "4x3=12\n",
            "4x4=16\n",
            "4x5=20\n",
            "4x6=24\n",
            "4x7=28\n",
            "4x8=32\n",
            "4x9=36\n",
            "------5-----\n",
            "5x1=5\n",
            "5x2=10\n",
            "5x3=15\n",
            "5x4=20\n",
            "5x5=25\n",
            "5x6=30\n",
            "5x7=35\n",
            "5x8=40\n",
            "5x9=45\n",
            "------6-----\n",
            "6x1=6\n",
            "6x2=12\n",
            "6x3=18\n",
            "6x4=24\n",
            "6x5=30\n",
            "6x6=36\n",
            "6x7=42\n",
            "6x8=48\n",
            "6x9=54\n",
            "------7-----\n",
            "7x1=7\n",
            "7x2=14\n",
            "7x3=21\n",
            "7x4=28\n",
            "7x5=35\n",
            "7x6=42\n",
            "7x7=49\n",
            "7x8=56\n",
            "7x9=63\n",
            "------8-----\n",
            "8x1=8\n",
            "8x2=16\n",
            "8x3=24\n",
            "8x4=32\n",
            "8x5=40\n",
            "8x6=48\n",
            "8x7=56\n",
            "8x8=64\n",
            "8x9=72\n",
            "------9-----\n",
            "9x1=9\n",
            "9x2=18\n",
            "9x3=27\n",
            "9x4=36\n",
            "9x5=45\n",
            "9x6=54\n",
            "9x7=63\n",
            "9x8=72\n",
            "9x9=81\n"
          ]
        }
      ]
    },
    {
      "cell_type": "code",
      "source": [
        "exam = [80,70,80,92,99,88,77,76,95,81]"
      ],
      "metadata": {
        "id": "2yFUqpgeEk6E"
      },
      "execution_count": 15,
      "outputs": []
    },
    {
      "cell_type": "code",
      "source": [
        "for i in exam:\n",
        "  if i>=90:\n",
        "    print('A')\n",
        "  elif i<90 and i>=80:\n",
        "   print('B')\n",
        "  elif i<80 and i>=70:\n",
        "   print('C')\n",
        "  elif i<70 and i>=60:\n",
        "   print('D')\n",
        "  else :\n",
        "   print('올바른 값 요구')\n",
        "\n",
        "##  if i>=90:\n",
        "##    print(\"A\")\n",
        "##  elif i>=80 and i<90:\n",
        "##    print(\"B\")\n",
        "## elif i>=70 and i<80:\n",
        "##    print(\"C\")\n",
        "##  elif i>=60 and i<70:\n",
        "##    print(\"D\")   "
      ],
      "metadata": {
        "colab": {
          "base_uri": "https://localhost:8080/"
        },
        "id": "I1gDHP4oE4a6",
        "outputId": "b42306bd-baaa-4e65-adde-2a3c4e2775ea"
      },
      "execution_count": 50,
      "outputs": [
        {
          "output_type": "stream",
          "name": "stdout",
          "text": [
            "D\n",
            "C\n",
            "B\n",
            "A\n",
            "A\n",
            "B\n",
            "C\n",
            "D\n",
            "올바른 값 요구\n",
            "올바른 값 요구\n"
          ]
        }
      ]
    },
    {
      "cell_type": "code",
      "source": [
        "a = int(input())\n",
        "if a >= 10000:\n",
        "  print('구매 가능')\n",
        "else:\n",
        "  print('구매 불가')"
      ],
      "metadata": {
        "colab": {
          "base_uri": "https://localhost:8080/"
        },
        "id": "8mfFwSuEFwtI",
        "outputId": "c9800575-c845-4000-e755-5fe7d425cb6d"
      },
      "execution_count": 20,
      "outputs": [
        {
          "output_type": "stream",
          "name": "stdout",
          "text": [
            "100000\n",
            "구매 가능\n"
          ]
        }
      ]
    },
    {
      "cell_type": "code",
      "source": [
        "cm = int(input())"
      ],
      "metadata": {
        "colab": {
          "base_uri": "https://localhost:8080/"
        },
        "id": "ftlPohHWGpj0",
        "outputId": "16eca1fc-3856-469a-ef6d-1838b5de47a0"
      },
      "execution_count": 22,
      "outputs": [
        {
          "name": "stdout",
          "output_type": "stream",
          "text": [
            "177\n"
          ]
        }
      ]
    },
    {
      "cell_type": "code",
      "source": [
        "age = int(input())"
      ],
      "metadata": {
        "colab": {
          "base_uri": "https://localhost:8080/"
        },
        "id": "cM_bY3OSHFpi",
        "outputId": "9a55c7e5-4d3e-41f9-da56-334e29c15938"
      },
      "execution_count": 23,
      "outputs": [
        {
          "name": "stdout",
          "output_type": "stream",
          "text": [
            "14\n"
          ]
        }
      ]
    },
    {
      "cell_type": "code",
      "source": [
        "name = input()"
      ],
      "metadata": {
        "colab": {
          "base_uri": "https://localhost:8080/"
        },
        "id": "BdfDK3BQHLIv",
        "outputId": "26716608-d2b8-43ae-aba0-8198d2bd0c1d"
      },
      "execution_count": 24,
      "outputs": [
        {
          "name": "stdout",
          "output_type": "stream",
          "text": [
            "kang\n"
          ]
        }
      ]
    },
    {
      "cell_type": "code",
      "source": [
        "gwa = input(\n",
        ")"
      ],
      "metadata": {
        "colab": {
          "base_uri": "https://localhost:8080/"
        },
        "id": "pUYzTwnmHPXM",
        "outputId": "dddfcaaa-c067-4e08-901d-9f7f0777f71b"
      },
      "execution_count": 25,
      "outputs": [
        {
          "name": "stdout",
          "output_type": "stream",
          "text": [
            "ai\n"
          ]
        }
      ]
    },
    {
      "cell_type": "code",
      "source": [
        "print(('저는 {} 학과이고 이름은 {} 이며 저의 나이는 {} 이고 키는 {}cm 입니다.').format(gwa,name,age,cm))"
      ],
      "metadata": {
        "colab": {
          "base_uri": "https://localhost:8080/"
        },
        "id": "iAdy0Ep-HTK8",
        "outputId": "e4f8ac11-134f-4fc3-f431-2b2ba1c44d24"
      },
      "execution_count": 26,
      "outputs": [
        {
          "output_type": "stream",
          "name": "stdout",
          "text": [
            "저는 ai 학과이고 이름은 kang 이며 저의 나이는 14 이고 키는 177cm 입니다.\n"
          ]
        }
      ]
    },
    {
      "cell_type": "code",
      "source": [
        "grades = [58,90,92,78,80,95]\n",
        "\n",
        "for i in grades:\n",
        "  k = grades\n",
        "  k\n",
        "  l = k+l\n",
        "  if i == 6:\n",
        "    l/i\n",
        "\n",
        "if l >= 85 :\n",
        "  print('합격입니다.')\n",
        "else :\n",
        "  print('불합격입니다.')\n"
      ],
      "metadata": {
        "colab": {
          "base_uri": "https://localhost:8080/"
        },
        "id": "lmqd-5ndHkkR",
        "outputId": "acce16f9-d04c-4054-9bc3-4c784ae7a940"
      },
      "execution_count": 45,
      "outputs": [
        {
          "output_type": "stream",
          "name": "stdout",
          "text": [
            "불합격입니다.\n"
          ]
        }
      ]
    },
    {
      "cell_type": "code",
      "source": [
        "k"
      ],
      "metadata": {
        "colab": {
          "base_uri": "https://localhost:8080/"
        },
        "id": "xICuzzBcIRSB",
        "outputId": "b634d0cc-657b-46bc-d4fb-a41fa8f6e928"
      },
      "execution_count": 37,
      "outputs": [
        {
          "output_type": "execute_result",
          "data": {
            "text/plain": [
              "[58, 90, 92, 78, 80, 95]"
            ]
          },
          "metadata": {},
          "execution_count": 37
        }
      ]
    },
    {
      "cell_type": "code",
      "source": [
        "grades = [58,90,92,78,80,95]\n",
        "\n",
        "k = 0\n",
        "n = 0\n",
        "H = 0\n",
        "for grade in grades:\n",
        "  k = k+grade    \n",
        "  n = n+1\n",
        "H = k/n\n",
        "if H >= 85 :\n",
        "  print('합격입니다.')\n",
        "else :\n",
        "  print('불합격입니다.')\n",
        "\n"
      ],
      "metadata": {
        "id": "l67VcYzaKdEX"
      },
      "execution_count": null,
      "outputs": []
    }
  ]
}